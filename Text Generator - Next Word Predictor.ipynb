{
 "cells": [
  {
   "cell_type": "markdown",
   "id": "72dceee3",
   "metadata": {},
   "source": [
    "# Data"
   ]
  },
  {
   "cell_type": "code",
   "execution_count": 66,
   "id": "c45dc3de",
   "metadata": {},
   "outputs": [],
   "source": [
    "data = \"\"\"About the Program\n",
    "What is the course fee for  Data Science Mentorship Program (DSMP 2023)\n",
    "The course follows a monthly subscription model where you have to make monthly payments of Rs 799/month.\n",
    "What is the total duration of the course?\n",
    "The total duration of the course is 7 months. So the total course fee becomes 799*7 = Rs 5600(approx.)\n",
    "What is the syllabus of the mentorship program?\n",
    "We will be covering the following modules:\n",
    "Python Fundamentals\n",
    "Python libraries for Data Science\n",
    "Data Analysis\n",
    "SQL for Data Science\n",
    "Maths for Machine Learning\n",
    "ML Algorithms\n",
    "Practical ML\n",
    "MLOPs\n",
    "Case studies\n",
    "You can check the detailed syllabus here - https://learnwith.campusx.in/courses/CampusX-Data-Science-Mentorship-Program-637339afe4b0615a1bbed390\n",
    "Will Deep Learning and NLP be a part of this program?\n",
    "No, NLP and Deep Learning both are not a part of this program’s curriculum.\n",
    "What if I miss a live session? Will I get a recording of the session?\n",
    "Yes all our sessions are recorded, so even if you miss a session you can go back and watch the recording.\n",
    "Where can I find the class schedule?\n",
    "Checkout this google sheet to see month by month time table of the course - https://docs.google.com/spreadsheets/d/16OoTax_A6ORAeCg4emgexhqqPv3noQPYKU7RJ6ArOzk/edit?usp=sharing.\n",
    "What is the time duration of all the live sessions?\n",
    "Roughly, all the sessions last 2 hours.\n",
    "What is the language spoken by the instructor during the sessions?\n",
    "Hinglish\n",
    "How will I be informed about the upcoming class?\n",
    "You will get a mail from our side before every paid session once you become a paid user.\n",
    "Can I do this course if I am from a non-tech background?\n",
    "Yes, absolutely.\n",
    "I am late, can I join the program in the middle?\n",
    "Absolutely, you can join the program anytime.\n",
    "If I join/pay in the middle, will I be able to see all the past lectures?\n",
    "Yes, once you make the payment you will be able to see all the past content in your dashboard.\n",
    "Where do I have to submit the task?\n",
    "You don’t have to submit the task. We will provide you with the solutions, you have to self evaluate the task yourself.\n",
    "Will we do case studies in the program?\n",
    "Yes.\n",
    "Where can we contact you?\n",
    "You can mail us at nitish.campusx@gmail.com\n",
    "Payment/Registration related questions\n",
    "Where do we have to make our payments? Your YouTube channel or website?\n",
    "You have to make all your monthly payments on our website. Here is the link for our website - https://learnwith.campusx.in/\n",
    "Can we pay the entire amount of Rs 5600 all at once?\n",
    "Unfortunately no, the program follows a monthly subscription model.\n",
    "What is the validity of monthly subscription? Suppose if I pay on 15th Jan, then do I have to pay again on 1st Feb or 15th Feb\n",
    "15th Feb. The validity period is 30 days from the day you make the payment. So essentially you can join anytime you don’t have to wait for a month to end.\n",
    "What if I don’t like the course after making the payment. What is the refund policy?\n",
    "You get a 7 days refund period from the day you have made the payment.\n",
    "I am living outside India and I am not able to make the payment on the website, what should I do?\n",
    "You have to contact us by sending a mail at nitish.campusx@gmail.com\n",
    "Post registration queries\n",
    "Till when can I view the paid videos on the website?\n",
    "This one is tricky, so read carefully. You can watch the videos till your subscription is valid. Suppose you have purchased subscription on 21st Jan, you will be able to watch all the past paid sessions in the period of 21st Jan to 20th Feb. But after 21st Feb you will have to purchase the subscription again.\n",
    "But once the course is over and you have paid us Rs 5600(or 7 installments of Rs 799) you will be able to watch the paid sessions till Aug 2024.\n",
    "Why lifetime validity is not provided?\n",
    "Because of the low course fee.\n",
    "Where can I reach out in case of a doubt after the session?\n",
    "You will have to fill a google form provided in your dashboard and our team will contact you for a 1 on 1 doubt clearance session\n",
    "If I join the program late, can I still ask past week doubts?\n",
    "Yes, just select past week doubt in the doubt clearance google form.\n",
    "I am living outside India and I am not able to make the payment on the website, what should I do?\n",
    "You have to contact us by sending a mail at nitish.campusx@gmai.com\n",
    "Certificate and Placement Assistance related queries\n",
    "What is the criteria to get the certificate?\n",
    "There are 2 criterias:\n",
    "You have to pay the entire fee of Rs 5600\n",
    "You have to attempt all the course assessments.\n",
    "I am joining late. How can I pay payment of the earlier months?\n",
    "You will get a link to pay fee of earlier months in your dashboard once you pay for the current month.\n",
    "I have read that Placement assistance is a part of this program. What comes under Placement assistance?\n",
    "This is to clarify that Placement assistance does not mean Placement guarantee. So we dont guarantee you any jobs or for that matter even interview calls. So if you are planning to join this course just for placements, I am afraid you will be disappointed. Here is what comes under placement assistance\n",
    "Portfolio Building sessions\n",
    "Soft skill sessions\n",
    "Sessions with industry mentors\n",
    "Discussion on Job hunting strategies\"\"\""
   ]
  },
  {
   "cell_type": "code",
   "execution_count": 67,
   "id": "a3a8d802",
   "metadata": {},
   "outputs": [],
   "source": [
    "import tensorflow as tf\n",
    "from tensorflow.keras.preprocessing.text import Tokenizer"
   ]
  },
  {
   "cell_type": "code",
   "execution_count": 68,
   "id": "a653f877",
   "metadata": {},
   "outputs": [],
   "source": [
    "tokenizer = Tokenizer()"
   ]
  },
  {
   "cell_type": "code",
   "execution_count": 69,
   "id": "01a8975f",
   "metadata": {},
   "outputs": [
    {
     "name": "stderr",
     "output_type": "stream",
     "text": [
      "[nltk_data] Downloading package punkt to\n",
      "[nltk_data]     C:\\Users\\rahul\\AppData\\Roaming\\nltk_data...\n",
      "[nltk_data]   Package punkt is already up-to-date!\n"
     ]
    }
   ],
   "source": [
    "import nltk\n",
    "nltk.download('punkt')\n",
    "sentences = nltk.sent_tokenize(data)"
   ]
  },
  {
   "cell_type": "code",
   "execution_count": 70,
   "id": "05f30307",
   "metadata": {},
   "outputs": [
    {
     "data": {
      "text/plain": [
       "'The total duration of the course is 7 months.'"
      ]
     },
     "execution_count": 70,
     "metadata": {},
     "output_type": "execute_result"
    }
   ],
   "source": [
    "sentences[2]"
   ]
  },
  {
   "cell_type": "code",
   "execution_count": 71,
   "id": "ce19c32d",
   "metadata": {},
   "outputs": [],
   "source": [
    "tokenizer.fit_on_texts(sentences)"
   ]
  },
  {
   "cell_type": "code",
   "execution_count": 72,
   "id": "80cffddb",
   "metadata": {},
   "outputs": [],
   "source": [
    "assigned_num = tokenizer.word_index # tells which word is assigned with which number"
   ]
  },
  {
   "cell_type": "code",
   "execution_count": 73,
   "id": "80447f45",
   "metadata": {},
   "outputs": [],
   "source": [
    "data = tokenizer.texts_to_sequences(sentences)"
   ]
  },
  {
   "cell_type": "code",
   "execution_count": 74,
   "id": "0dbe4bb8",
   "metadata": {},
   "outputs": [
    {
     "data": {
      "text/plain": [
       "[1, 71, 72, 6, 1, 12, 7, 54, 73]"
      ]
     },
     "execution_count": 74,
     "metadata": {},
     "output_type": "execute_result"
    }
   ],
   "source": [
    "data[2]"
   ]
  },
  {
   "cell_type": "code",
   "execution_count": 75,
   "id": "ceb1737b",
   "metadata": {},
   "outputs": [],
   "source": [
    "input_seq = []\n",
    "for i in range(0,len(data)):\n",
    "    for j in range(1,len(data[i])):\n",
    "        input_seq.append(data[i][:j+1])"
   ]
  },
  {
   "cell_type": "code",
   "execution_count": 76,
   "id": "3d783da7",
   "metadata": {
    "scrolled": false
   },
   "outputs": [
    {
     "name": "stdout",
     "output_type": "stream",
     "text": [
      "60\n"
     ]
    }
   ],
   "source": [
    "maxim = 0;\n",
    "for i in range(0,len(input_seq)):\n",
    "    maxim = max(maxim,len(input_seq[i]));\n",
    "print(maxim)"
   ]
  },
  {
   "cell_type": "code",
   "execution_count": 77,
   "id": "2c842319",
   "metadata": {},
   "outputs": [],
   "source": [
    "from keras.utils import pad_sequences\n",
    "input_seq = pad_sequences(input_seq,padding='pre',maxlen=maxim)"
   ]
  },
  {
   "cell_type": "code",
   "execution_count": 78,
   "id": "8f0297b4",
   "metadata": {},
   "outputs": [
    {
     "data": {
      "text/plain": [
       "array([[  0,   0,   0, ...,   0,  93,   1],\n",
       "       [  0,   0,   0, ...,  93,   1,  13],\n",
       "       [  0,   0,   0, ...,   1,  13,  11],\n",
       "       ...,\n",
       "       [  0,   0,   0, ..., 279,  18, 280],\n",
       "       [  0,   0,   0, ...,  18, 280, 281],\n",
       "       [  0,   0,   0, ..., 280, 281, 282]])"
      ]
     },
     "execution_count": 78,
     "metadata": {},
     "output_type": "execute_result"
    }
   ],
   "source": [
    "input_seq"
   ]
  },
  {
   "cell_type": "code",
   "execution_count": 79,
   "id": "9e7a0da7",
   "metadata": {},
   "outputs": [],
   "source": [
    "x = input_seq[:,:-1]\n",
    "y = input_seq[:,-1]"
   ]
  },
  {
   "cell_type": "code",
   "execution_count": 80,
   "id": "9fbb4501",
   "metadata": {},
   "outputs": [
    {
     "data": {
      "text/plain": [
       "array([[  0,   0,   0, ...,   0,   0,  93],\n",
       "       [  0,   0,   0, ...,   0,  93,   1],\n",
       "       [  0,   0,   0, ...,  93,   1,  13],\n",
       "       ...,\n",
       "       [  0,   0,   0, ..., 278, 279,  18],\n",
       "       [  0,   0,   0, ..., 279,  18, 280],\n",
       "       [  0,   0,   0, ...,  18, 280, 281]])"
      ]
     },
     "execution_count": 80,
     "metadata": {},
     "output_type": "execute_result"
    }
   ],
   "source": [
    "x"
   ]
  },
  {
   "cell_type": "code",
   "execution_count": 81,
   "id": "cff1c5b3",
   "metadata": {},
   "outputs": [
    {
     "data": {
      "text/plain": [
       "array([  1,  13,  11,   7,   1,  12,  42,  15,  43,  53,  68,  13, 147,\n",
       "       148,   1,  12,  94,   5,  44,  29,  95,  30,   2,   8,   4,  26,\n",
       "        44,  69,   6,  31,  70,  45,   7,   1,  71,  72,   6,   1,  12,\n",
       "        71,  72,   6,   1,  12,   7,  54,  73,   1,  71,  12,  42, 149,\n",
       "        70,  54,  31,  55, 150,   7,   1,  96,   6,   1,  68,  13,   9,\n",
       "        19, 151,   1, 152, 153,  97, 154,  97, 155,  15,  43,  53,  43,\n",
       "       156, 157,  15,  43,  53, 158,  15, 159,  74,  98, 160, 161,  98,\n",
       "       162,  75,  99,   2,  10, 163,   1, 164,  96,  76,  77, 100,  33,\n",
       "        14, 165,  33,  43,  53,  68,  13, 166,   9, 101,  74,  20, 102,\n",
       "        19,   5,  78,   6,  21,  13, 102,  20, 101,  74, 167,  56,  46,\n",
       "         5,  78,   6,  21, 168, 169,  22,   3, 104,   5, 105,  34,   3,\n",
       "        47,   5, 106,   6,   1,  34,  16,  35,  17,  56, 170,  32, 107,\n",
       "        22,   2, 104,   5,  34,   2,  10, 171, 172,  20,  57,   1, 106,\n",
       "        10,   3, 173,   1, 108, 174,  21,  58, 176,   4,  79,  45,  59,\n",
       "        45, 109, 177,   6,   1,  12,  77, 178,  58,  60, 179, 180, 181,\n",
       "       182, 183, 184, 185,   7,   1, 109,  72,   6,  16,   1, 105,  17,\n",
       "        16,   1,  17, 187, 110, 188,   7,   1, 189, 190,  59,   1, 191,\n",
       "       192,   1,  17, 111,   9,   3,  19, 194,  93,   1, 195, 108,   9,\n",
       "        47,   5,  61,  62,  35, 196, 197, 198,  36,  34,  49,   2, 199,\n",
       "         5,  36, 200,   3,  28,  21,  12,  22,   3,  23,  62,   5, 201,\n",
       "       202, 203, 112,  23,  80,  10,   3,  37,   1,  13,  14,   1, 113,\n",
       "         2,  10,  37,   1,  13, 114,   3,  37,  24,  14,   1, 113,   9,\n",
       "         3,  19,  38,   4,  79,  16,   1,  50, 204,  49,   2,  26,   1,\n",
       "        25,   2,   9,  19,  38,   4,  79,  16,   1,  50, 205,  14,  39,\n",
       "        81,  28,   3,   8,   4, 115,   1,  82,  83,   8,   4, 115,   1,\n",
       "        82,   9, 206,   2, 116,   1, 207,   2,   8,   4, 208, 209,   1,\n",
       "        82, 210,  27,  28,  75,  99,  14,   1,  13,  10,  27,  63,   2,\n",
       "        10,  61,  64,  65,  84,  33, 117,  60,  25, 118, 119, 211,  30,\n",
       "        28,  27,   8,   4,  26,  35,  69, 212, 213,  66,  40,   8,   4,\n",
       "        26,  16,  39,  44,  69,  18,  35,  40,   7,   1, 120,  15,  35,\n",
       "        40,  77, 100,  33,  14,  10,  27,  24,   1, 121, 214,   6,  31,\n",
       "        55,  16,  65,  49, 103,   1,  13,  94,   5,  44,  29,  95,   7,\n",
       "         1,  85,   6,  44,  29,  22,   3,  24,  18,  86,  87, 216,  28,\n",
       "         3,   8,   4,  24, 123,  18, 217,  51,  66,  86,  51,  86,  51,\n",
       "        85,  88,   7, 218, 124,  62,   1, 125,   2,  26,   1,  25, 219,\n",
       "         2,  10,  37, 114,   2,  83,   8,   4, 220,  15,   5,  45,   4,\n",
       "       221,  22,   3,  83, 222,   1,  12,  89, 223,   1,  25,   7,   1,\n",
       "       126, 224,  47,   5,  54, 124, 126,  88,  62,   1, 125,   2,   8,\n",
       "       225,   1,  25,  23, 127, 128, 129,  20,   3,  23,  46,  38,   4,\n",
       "        26,   1,  25,  18,   1,  40,  11, 130,   3,  28,   8,   4,  63,\n",
       "        64,  59, 131,   5,  61,  65,  84,  33, 117,  60, 226, 118, 132,\n",
       "        90, 227,  10,   3, 228,   1,  36, 133,  18,   1,  40, 229,   7,\n",
       "       230,  32, 134, 231,  10,  57,   1, 133,  90,  39,  29,   7, 232,\n",
       "         2,   8, 233,  29,  18,  91,  87,   2,   9,  19,  38,   4,  57,\n",
       "        16,   1,  50,  36,  17,  14,   1,  88,   6,  91,  87,   4, 234,\n",
       "        51,  89,  91,  51,   2,   9,   8,   4, 235,   1,  29, 123,  49,\n",
       "         1,  12,   7, 236,  20,   2,   8,  36,  64,  31,  55,  66,  54,\n",
       "       237,   6,  31,  70,   2,   9,  19,  38,   4,  57,   1,  36,  17,\n",
       "        90, 238, 239, 241,  85,   7,  46, 136,   6,   1, 243,  12,  42,\n",
       "        10,   3, 244, 245,  14,  75,   6,   5,  67,  89,   1,  34,   9,\n",
       "         8,   4, 246,   5,  58, 137, 136,  14,  39,  81,  20,  35, 247,\n",
       "         9,  63,   2,  15,   5, 138,  18, 138,  67, 139,  34,  22,   3,\n",
       "        37,   1,  13,  80,  10,   3, 248, 249,  50, 140, 250, 141, 251,\n",
       "        50, 140,  67,  14,   1,  67, 139,  58, 137,  23, 127, 128, 129,\n",
       "        20,   3,  23,  46,  38,   4,  26,   1,  25,  18,   1,  40,  11,\n",
       "       130,   3,  28,   8,   4,  63,  64,  59, 131,   5,  61,  65,  84,\n",
       "        33, 252,  60, 142,  20,  41,  52, 119, 132,  11,   7,   1, 253,\n",
       "         4,  47,   1, 142,  56, 110, 255,   2,   8,   4,  24,   1, 121,\n",
       "        42,   6,  31,  55,   2,   8,   4, 256,  16,   1,  12, 257,  23,\n",
       "       258,  80,  10,   3,  24,  25,   6,   1, 143,  73,   9,  47,   5,\n",
       "       120,   4,  24,  42,   6, 143,  73,  14,  39,  81,  49,   2,  24,\n",
       "        15,   1, 259,  45,   8, 134,  92,  41,  52,   7,   5,  78,   6,\n",
       "        21,  13, 144, 145,  41,  52,   7,   4, 260,  92,  41,  52, 261,\n",
       "        46, 262,  41, 146,  27, 263, 146,   2, 264, 265,  66,  15,  92,\n",
       "       266, 107, 267, 268,  22,   2,  56, 269,   4,  37,  21,  12, 141,\n",
       "        15, 270,   3,  23, 271,   2,   9,  19, 272,   7,  11, 144, 145,\n",
       "        41,  52, 273, 274,  17, 275, 276,  17,  17, 116, 277, 278, 279,\n",
       "        18, 280, 281, 282])"
      ]
     },
     "execution_count": 81,
     "metadata": {},
     "output_type": "execute_result"
    }
   ],
   "source": [
    "y"
   ]
  },
  {
   "cell_type": "code",
   "execution_count": 82,
   "id": "d3c999a5",
   "metadata": {},
   "outputs": [],
   "source": [
    "# our setup is multiclass classification"
   ]
  },
  {
   "cell_type": "code",
   "execution_count": 83,
   "id": "5923d72d",
   "metadata": {},
   "outputs": [
    {
     "name": "stdout",
     "output_type": "stream",
     "text": [
      "272\n",
      "875\n"
     ]
    }
   ],
   "source": [
    "import numpy as np\n",
    "element_counts = np.unique(y)\n",
    "print(len(element_counts))\n",
    "print(len(y))"
   ]
  },
  {
   "cell_type": "code",
   "execution_count": 84,
   "id": "7377972a",
   "metadata": {},
   "outputs": [],
   "source": [
    "from tensorflow.keras.utils import to_categorical\n",
    "y = to_categorical(y, num_classes = len(assigned_num)+1)"
   ]
  },
  {
   "cell_type": "code",
   "execution_count": 85,
   "id": "0e818da2",
   "metadata": {},
   "outputs": [
    {
     "data": {
      "text/plain": [
       "(875, 59)"
      ]
     },
     "execution_count": 85,
     "metadata": {},
     "output_type": "execute_result"
    }
   ],
   "source": [
    "x.shape"
   ]
  },
  {
   "cell_type": "code",
   "execution_count": 86,
   "id": "51cc81e2",
   "metadata": {},
   "outputs": [
    {
     "data": {
      "text/plain": [
       "(875, 283)"
      ]
     },
     "execution_count": 86,
     "metadata": {},
     "output_type": "execute_result"
    }
   ],
   "source": [
    "y.shape"
   ]
  },
  {
   "cell_type": "code",
   "execution_count": 89,
   "id": "68ae51fa",
   "metadata": {},
   "outputs": [
    {
     "name": "stdout",
     "output_type": "stream",
     "text": [
      "Model: \"sequential_4\"\n",
      "_________________________________________________________________\n",
      " Layer (type)                Output Shape              Param #   \n",
      "=================================================================\n",
      " embedding_4 (Embedding)     (None, 59, 100)           28200     \n",
      "                                                                 \n",
      " lstm_6 (LSTM)               (None, 59, 150)           150600    \n",
      "                                                                 \n",
      " lstm_7 (LSTM)               (None, 59, 150)           180600    \n",
      "                                                                 \n",
      " lstm_8 (LSTM)               (None, 150)               180600    \n",
      "                                                                 \n",
      " dense_2 (Dense)             (None, 283)               42733     \n",
      "                                                                 \n",
      "=================================================================\n",
      "Total params: 582,733\n",
      "Trainable params: 582,733\n",
      "Non-trainable params: 0\n",
      "_________________________________________________________________\n"
     ]
    }
   ],
   "source": [
    "from keras import Sequential\n",
    "from keras.layers import Dense,LSTM,Embedding,Flatten\n",
    "\n",
    "model = Sequential()\n",
    "model.add(Embedding(input_dim=len(assigned_num), output_dim=100, input_length=59))\n",
    "model.add(LSTM(150,return_sequences=True))\n",
    "model.add(LSTM(150,return_sequences=True))\n",
    "model.add(LSTM(150,return_sequences=False))\n",
    "model.add(Dense(len(assigned_num)+1,activation='softmax'))\n",
    "model.summary()"
   ]
  },
  {
   "cell_type": "code",
   "execution_count": 90,
   "id": "cb9ad647",
   "metadata": {},
   "outputs": [],
   "source": [
    "model.compile(loss='categorical_crossentropy', optimizer='adam', metrics=['accuracy'])"
   ]
  },
  {
   "cell_type": "code",
   "execution_count": 132,
   "id": "c79740cb",
   "metadata": {},
   "outputs": [],
   "source": [
    "from sklearn.model_selection import train_test_split\n",
    "from tensorflow.keras.callbacks import EarlyStopping\n",
    "history = model.fit(x,y, epochs=100)"
   ]
  },
  {
   "cell_type": "code",
   "execution_count": 101,
   "id": "be05b213",
   "metadata": {},
   "outputs": [],
   "source": [
    "def predict_output(text):\n",
    "    ans = text\n",
    "    for i in range(5):\n",
    "        tokenizer.fit_on_texts([text])\n",
    "        token_text = tokenizer.texts_to_sequences([text])\n",
    "        token_text = pad_sequences(token_text,padding='pre',maxlen=maxim-1)\n",
    "        pos = np.argmax(model.predict(token_text))\n",
    "        \n",
    "        for word,index in tokenizer.word_index.items():\n",
    "            if index==pos:\n",
    "                ans = ans + ' ' + word\n",
    "                text = word\n",
    "    return ans"
   ]
  },
  {
   "cell_type": "markdown",
   "id": "9f855c85",
   "metadata": {},
   "source": [
    "# Prediction"
   ]
  },
  {
   "cell_type": "code",
   "execution_count": 131,
   "id": "83bac0c3",
   "metadata": {},
   "outputs": [
    {
     "name": "stdout",
     "output_type": "stream",
     "text": [
      "1/1 [==============================] - 0s 26ms/step\n",
      "1/1 [==============================] - 0s 29ms/step\n",
      "1/1 [==============================] - 0s 29ms/step\n",
      "1/1 [==============================] - 0s 27ms/step\n",
      "1/1 [==============================] - 0s 28ms/step\n",
      "SQL for  joining you sessions spreadsheets for\n"
     ]
    }
   ],
   "source": [
    "# Prediction 1\n",
    "text = \"SQL for \"\n",
    "print(predict_output(text))"
   ]
  }
 ],
 "metadata": {
  "kernelspec": {
   "display_name": "Python 3 (ipykernel)",
   "language": "python",
   "name": "python3"
  },
  "language_info": {
   "codemirror_mode": {
    "name": "ipython",
    "version": 3
   },
   "file_extension": ".py",
   "mimetype": "text/x-python",
   "name": "python",
   "nbconvert_exporter": "python",
   "pygments_lexer": "ipython3",
   "version": "3.9.13"
  }
 },
 "nbformat": 4,
 "nbformat_minor": 5
}
